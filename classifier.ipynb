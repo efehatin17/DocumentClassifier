{
 "cells": [
  {
   "cell_type": "code",
   "execution_count": 4,
   "metadata": {},
   "outputs": [],
   "source": [
    "from openpyxl import load_workbook\n",
    "import re\n",
    "import pandas as pd\n",
    "import numpy as np"
   ]
  },
  {
   "cell_type": "code",
   "execution_count": 5,
   "metadata": {},
   "outputs": [],
   "source": [
    "def extract_number(sheet, i):\n",
    "    filename = sheet[\"C\" + str(i)].value\n",
    "    filename.replace(\" \", \"\")\n",
    "    number_of_dashes = filename.count(\"-\")\n",
    "    if number_of_dashes == 5 or number_of_dashes == 4:\n",
    "        number = filename.split(\"-\")[4]\n",
    "    else:\n",
    "        number = \"\"\n",
    "    return number"
   ]
  },
  {
   "cell_type": "code",
   "execution_count": 6,
   "metadata": {},
   "outputs": [],
   "source": [
    "def find_number(sheet):\n",
    "    number_list = []\n",
    "    for i in range(2, sheet.max_row):\n",
    "        number = extract_number(sheet, i)\n",
    "        if len(number) == 6:\n",
    "            number_list.append(number)\n",
    "    return number_list"
   ]
  },
  {
   "cell_type": "code",
   "execution_count": 7,
   "metadata": {},
   "outputs": [],
   "source": [
    "workbook = load_workbook(filename=\"Lead Monitoring Report  (52).xlsx\")\n",
    "sheet = workbook.active\n",
    "numbers_list = find_number(sheet)"
   ]
  },
  {
   "cell_type": "code",
   "execution_count": 8,
   "metadata": {},
   "outputs": [],
   "source": [
    "def vectorize_words(df):\n",
    "    n_grams = df[\"n-gram\"].tolist()\n",
    "    unique_n_grams = list(dict.fromkeys(n_grams))\n",
    "    return unique_n_grams"
   ]
  },
  {
   "cell_type": "code",
   "execution_count": 9,
   "metadata": {},
   "outputs": [],
   "source": [
    "def organize_words(df):\n",
    "    words_per_file = dict()\n",
    "    for i in range(1, 186):\n",
    "        n_grams = df[\"n-gram\"][df.filecount == i].tolist()\n",
    "        frequencies = df[\"frequency\"][df.filecount == i].tolist()\n",
    "        filenames = df[\"filename\"][df.filecount == i].tolist()\n",
    "        number = filenames[0].split(\"-\")[4][0:6]\n",
    "        words_per_file[number] = [(n_grams[j], frequencies[j]) for j in range(len(n_grams))]\n",
    "    return words_per_file"
   ]
  },
  {
   "cell_type": "code",
   "execution_count": 10,
   "metadata": {},
   "outputs": [],
   "source": [
    "df = pd.read_csv(\"output.csv\")\n",
    "words_list = vectorize_words(df)\n",
    "words_and_frequencies = organize_words(df)"
   ]
  },
  {
   "cell_type": "code",
   "execution_count": 11,
   "metadata": {},
   "outputs": [],
   "source": [
    "common_files = list(set(numbers_list).intersection(words_and_frequencies.keys()))\n",
    "words_dict = {}\n",
    "for file_number in words_and_frequencies.keys():\n",
    "    if file_number in common_files:\n",
    "        words_dict[file_number] = words_and_frequencies[file_number]"
   ]
  },
  {
   "cell_type": "code",
   "execution_count": 12,
   "metadata": {},
   "outputs": [],
   "source": [
    "def vectorize_names(sheet, column, numbers_list):\n",
    "    big_name_list = []\n",
    "    encodings_dict = dict()\n",
    "    for i in range(2, sheet.max_row):\n",
    "        names = sheet[column + str(i)].value\n",
    "        names = names.replace(\",\", \", \")\n",
    "        names = names.split(\"/\")[1]\n",
    "        x = re.findall(\"\\d+\", names)\n",
    "        if (x):\n",
    "            total = re.split('\\d+', names)[1]\n",
    "        else:\n",
    "            continue\n",
    "        total = total.replace(\") \", \"\")\n",
    "        name_list = total.split(\", \")\n",
    "        name_list = [name.lower() for name in name_list]\n",
    "        name_list = [name.lstrip() for name in name_list]\n",
    "        file_number = extract_number(sheet, i)\n",
    "        if file_number in numbers_list:\n",
    "            big_name_list += name_list\n",
    "            encodings_dict[file_number] = name_list\n",
    "        \n",
    "    final_list = list(dict.fromkeys(big_name_list))\n",
    "    final_list = sorted(final_list)\n",
    "    return final_list[1:], encodings_dict"
   ]
  },
  {
   "cell_type": "code",
   "execution_count": 13,
   "metadata": {},
   "outputs": [],
   "source": [
    "def hot_encode_numbers(lst, dct):\n",
    "    for key in dct.keys():\n",
    "        dct[key] = [1 if i in dct[key] else 0 for i in lst]"
   ]
  },
  {
   "cell_type": "code",
   "execution_count": 14,
   "metadata": {},
   "outputs": [],
   "source": [
    "R_list, R_dict = vectorize_names(sheet, \"Q\", common_files)\n",
    "LR_list, LR_dict = vectorize_names(sheet, \"R\", common_files)\n",
    "OLR_list, OLR_dict = vectorize_names(sheet, \"S\", common_files)\n",
    "\n",
    "hot_encode_numbers(R_list, R_dict)\n",
    "hot_encode_numbers(LR_list, LR_dict)\n",
    "hot_encode_numbers(OLR_list, OLR_dict)"
   ]
  },
  {
   "cell_type": "code",
   "execution_count": 17,
   "metadata": {},
   "outputs": [],
   "source": [
    "def hot_encode_words(words_list, words_per_file):\n",
    "    encoding = dict()\n",
    "    i=1\n",
    "    for number in words_per_file.keys():\n",
    "        for pair in words_per_file[number]:\n",
    "            if number not in encoding.keys():\n",
    "                encoding[number] = np.zeros(len(words_list))\n",
    "            encoding[number][words_list.index(pair[0])] = pair[1]\n",
    "        print(i)\n",
    "        i+=1\n",
    "    return encoding"
   ]
  },
  {
   "cell_type": "code",
   "execution_count": null,
   "metadata": {},
   "outputs": [],
   "source": [
    "words_encoding = hot_encode_words(words_list, words_dict)"
   ]
  },
  {
   "cell_type": "code",
   "execution_count": 21,
   "metadata": {},
   "outputs": [],
   "source": [
    "def match_encodings(numbers_encoding, words_encoding):\n",
    "    X = []\n",
    "    Y = []\n",
    "    for n1 in numbers_encoding.keys():\n",
    "        for n2 in words_encoding.keys():\n",
    "            if n1 == n2:\n",
    "                X.append(words_encoding[n2])\n",
    "                Y.append(numbers_encoding[n1])\n",
    "    return X, Y"
   ]
  },
  {
   "cell_type": "code",
   "execution_count": 22,
   "metadata": {},
   "outputs": [],
   "source": [
    "X, Y = match_encodings(R_dict, words_encoding)"
   ]
  },
  {
   "cell_type": "code",
   "execution_count": 24,
   "metadata": {},
   "outputs": [],
   "source": [
    "import pickle\n",
    "with open(\"data.pickle\", 'wb') as f:\n",
    "    pickle.dump([X, Y], f)"
   ]
  },
  {
   "cell_type": "code",
   "execution_count": 25,
   "metadata": {},
   "outputs": [],
   "source": [
    "import pickle\n",
    "from sklearn.model_selection import train_test_split\n",
    "with open('data.pickle', 'rb') as f:\n",
    "    X, Y = pickle.load(f)\n",
    "\n",
    "df_X = pd.DataFrame(X)\n",
    "dfY = pd.DataFrame(Y)"
   ]
  },
  {
   "cell_type": "code",
   "execution_count": 26,
   "metadata": {},
   "outputs": [],
   "source": [
    "to_be_deleted = []\n",
    "for i in range(dfY.shape[1]):\n",
    "    count = 0\n",
    "    for y in Y:\n",
    "        count += y[i]\n",
    "    if count < 10:\n",
    "        to_be_deleted.append(i)\n",
    "        \n",
    "df_Y = dfY.drop(to_be_deleted, axis=1)\n",
    "df_Y.columns = range(df_Y.shape[1])"
   ]
  },
  {
   "cell_type": "code",
   "execution_count": 27,
   "metadata": {},
   "outputs": [],
   "source": [
    "names_list = pd.DataFrame(R_list)\n",
    "names_list = names_list.drop(to_be_deleted).reset_index(drop=True)"
   ]
  },
  {
   "cell_type": "code",
   "execution_count": 28,
   "metadata": {},
   "outputs": [],
   "source": [
    "import logging\n",
    "import pandas as pd\n",
    "import numpy as np\n",
    "from numpy import random\n",
    "import nltk\n",
    "from sklearn.feature_extraction.text import CountVectorizer, TfidfVectorizer\n",
    "from sklearn.feature_extraction.text import TfidfTransformer\n",
    "from sklearn.metrics import accuracy_score, confusion_matrix\n",
    "from sklearn.linear_model import LogisticRegression\n",
    "from sklearn.pipeline import Pipeline\n",
    "import matplotlib.pyplot as plt\n",
    "from nltk.corpus import stopwords\n",
    "import re\n",
    "from random import sample\n",
    "%matplotlib inline\n",
    "\n",
    "from sklearn.linear_model import SGDClassifier\n",
    "\n",
    "sgd = Pipeline([('tfidf', TfidfTransformer()),\n",
    "                ('clf', SGDClassifier(loss='hinge', penalty='l2',alpha=1e-3, random_state=42, max_iter=5, tol=None)),\n",
    "               ])\n",
    "\n",
    "no_of_people = df_Y.shape[1]\n",
    "X_train, X_test = [[] for i in range(no_of_people)], [[] for i in range(no_of_people)]\n",
    "Y_train, Y_test = [[] for i in range(no_of_people)], [[] for i in range(no_of_people)]\n",
    "total = df_Y.shape[0]\n",
    "test_portion = round(total * 0.3)\n",
    "for i in range(no_of_people):\n",
    "    k = 0\n",
    "    for j in range(total):\n",
    "        if df_Y.iloc[j][i] == 1 or total - j <= test_portion - k:\n",
    "            Y_test[i].append(df_Y.iloc[j].tolist()[i])\n",
    "            X_test[i].append(df_X.iloc[j])\n",
    "            k += 1\n",
    "        else:\n",
    "            Y_train[i].append(df_Y.iloc[j])\n",
    "            X_train[i].append(df_X.iloc[j])\n",
    "        if k == 3:\n",
    "            indices = np.arange(j + 1, df_Y.shape[0])\n",
    "            test_indices = sample(list(indices), test_portion - 3)\n",
    "            for z in range(j + 1, df_Y.shape[0]):\n",
    "                if z in test_indices:\n",
    "                    Y_test[i].append(df_Y.iloc[z].tolist()[i])\n",
    "                    X_test[i].append(df_X.iloc[z])\n",
    "                else:\n",
    "                    Y_train[i].append(df_Y.iloc[z])\n",
    "                    X_train[i].append(df_X.iloc[z])\n",
    "            break"
   ]
  },
  {
   "cell_type": "code",
   "execution_count": 29,
   "metadata": {},
   "outputs": [],
   "source": [
    "Y_pred = []\n",
    "models = {}\n",
    "for i in range(no_of_people):\n",
    "    x_train = X_train[i]\n",
    "    y_train = [y[i] for y in Y_train[i]]\n",
    "    if sum(y_train) == 0:\n",
    "        Y_pred.append(np.array([0 for y in range(26)]))\n",
    "        print(\"noooo\")\n",
    "        continue\n",
    "    models[i] = sgd.fit(x_train, y_train)\n",
    "    y_pred = models[i].predict(X_test[i])\n",
    "    Y_pred.append(y_pred)"
   ]
  },
  {
   "cell_type": "code",
   "execution_count": 32,
   "metadata": {},
   "outputs": [],
   "source": [
    "Y_pred_transposed = [*zip(*Y_pred)]\n",
    "Y_test_transposed = [*zip(*Y_test)]"
   ]
  },
  {
   "cell_type": "code",
   "execution_count": 33,
   "metadata": {},
   "outputs": [
    {
     "name": "stdout",
     "output_type": "stream",
     "text": [
      "accuracy 0.0\n",
      "              precision    recall  f1-score   support\n",
      "\n",
      "           0       0.70      0.54      0.61        13\n",
      "           1       0.88      1.00      0.94        22\n",
      "           2       0.80      1.00      0.89        20\n",
      "           3       0.91      0.77      0.83        13\n",
      "           4       0.88      1.00      0.94        22\n",
      "           5       0.71      0.62      0.67        16\n",
      "           6       0.73      0.58      0.65        19\n",
      "           7       0.56      0.45      0.50        11\n",
      "           8       0.71      0.77      0.74        13\n",
      "           9       0.62      0.42      0.50        12\n",
      "          10       1.00      0.36      0.53        11\n",
      "          11       0.75      0.33      0.46         9\n",
      "          12       1.00      0.18      0.31        11\n",
      "          13       0.62      0.50      0.56        10\n",
      "          14       0.84      0.80      0.82        20\n",
      "          15       0.96      1.00      0.98        24\n",
      "          16       0.92      1.00      0.96        23\n",
      "          17       0.67      0.67      0.67         9\n",
      "          18       0.75      0.60      0.67        10\n",
      "          19       0.60      0.43      0.50         7\n",
      "          20       0.83      0.56      0.67         9\n",
      "          21       0.96      0.96      0.96        24\n",
      "          22       0.56      0.82      0.67        11\n",
      "          23       0.52      0.92      0.67        12\n",
      "          24       0.00      0.00      0.00         8\n",
      "          25       1.00      0.12      0.22         8\n",
      "          26       1.00      0.25      0.40        16\n",
      "          27       0.00      0.00      0.00         6\n",
      "          28       0.73      0.94      0.82        17\n",
      "          29       1.00      0.20      0.33        10\n",
      "          30       0.67      0.44      0.53         9\n",
      "          31       0.88      0.50      0.64        14\n",
      "          32       0.00      0.00      0.00         6\n",
      "          33       0.67      0.31      0.42        13\n",
      "          34       0.91      0.91      0.91        23\n",
      "          35       0.75      0.55      0.63        11\n",
      "          36       1.00      0.45      0.62        11\n",
      "          37       0.67      0.46      0.55        13\n",
      "          38       0.83      0.42      0.56        12\n",
      "          39       0.60      0.38      0.46         8\n",
      "          40       0.80      0.29      0.42        14\n",
      "          41       0.85      0.79      0.81        14\n",
      "          42       1.00      0.17      0.29         6\n",
      "          43       0.00      0.00      0.00         4\n",
      "          44       0.62      0.38      0.48        13\n",
      "          45       0.00      0.00      0.00         3\n",
      "          46       0.00      0.00      0.00         8\n",
      "          47       1.00      0.31      0.47        13\n",
      "          48       0.62      1.00      0.77        15\n",
      "          49       0.86      0.50      0.63        12\n",
      "          50       0.67      0.44      0.53         9\n",
      "          51       0.00      0.00      0.00        10\n",
      "          52       1.00      0.40      0.57        10\n",
      "          53       0.56      0.45      0.50        11\n",
      "          54       0.67      0.22      0.33         9\n",
      "          55       0.78      0.50      0.61        14\n",
      "          56       0.50      0.50      0.50        12\n",
      "\n",
      "   micro avg       0.77      0.59      0.67       713\n",
      "   macro avg       0.69      0.49      0.54       713\n",
      "weighted avg       0.75      0.59      0.62       713\n",
      " samples avg       0.77      0.65      0.68       713\n",
      "\n"
     ]
    },
    {
     "name": "stderr",
     "output_type": "stream",
     "text": [
      "C:\\Users\\efeha\\anaconda3\\lib\\site-packages\\sklearn\\metrics\\_classification.py:1221: UndefinedMetricWarning: Precision and F-score are ill-defined and being set to 0.0 in labels with no predicted samples. Use `zero_division` parameter to control this behavior.\n",
      "  _warn_prf(average, modifier, msg_start, len(result))\n"
     ]
    }
   ],
   "source": [
    "from sklearn.metrics import accuracy_score, classification_report, precision_recall_fscore_support\n",
    "Y_pred_list = [p.tolist() for p in Y_pred]\n",
    "print('accuracy %s' % accuracy_score(Y_pred_transposed, Y_test_transposed))\n",
    "print(classification_report(Y_test_transposed, Y_pred_transposed))\n",
    "precision, recall, fscore, support = precision_recall_fscore_support(Y_test_transposed, Y_pred_transposed)"
   ]
  },
  {
   "cell_type": "code",
   "execution_count": 34,
   "metadata": {},
   "outputs": [
    {
     "name": "stdout",
     "output_type": "stream",
     "text": [
      "╒════════════════════════╤═════════════╤══════════╤════════════╤═══════════╕\n",
      "│ name                   │   precision │   recall │   f1-score │   support │\n",
      "╞════════════════════════╪═════════════╪══════════╪════════════╪═══════════╡\n",
      "│ eda teki̇roğlu          │    0.96     │ 1        │   0.979592 │        24 │\n",
      "├────────────────────────┼─────────────┼──────────┼────────────┼───────────┤\n",
      "│ evren eki̇nci̇           │    0.958333 │ 0.958333 │   0.958333 │        24 │\n",
      "├────────────────────────┼─────────────┼──────────┼────────────┼───────────┤\n",
      "│ ekin eki̇z              │    0.92     │ 1        │   0.958333 │        23 │\n",
      "├────────────────────────┼─────────────┼──────────┼────────────┼───────────┤\n",
      "│ mehmet emin karaaslan  │    0.913043 │ 0.913043 │   0.913043 │        23 │\n",
      "├────────────────────────┼─────────────┼──────────┼────────────┼───────────┤\n",
      "│ ahmet ergin efendi̇oğlu │    0.88     │ 1        │   0.93617  │        22 │\n",
      "├────────────────────────┼─────────────┼──────────┼────────────┼───────────┤\n",
      "│ ali volkan debbağ      │    0.88     │ 1        │   0.93617  │        22 │\n",
      "├────────────────────────┼─────────────┼──────────┼────────────┼───────────┤\n",
      "│ akif bakan             │    0.8      │ 1        │   0.888889 │        20 │\n",
      "├────────────────────────┼─────────────┼──────────┼────────────┼───────────┤\n",
      "│ douglas london         │    0.842105 │ 0.8      │   0.820513 │        20 │\n",
      "├────────────────────────┼─────────────┼──────────┼────────────┼───────────┤\n",
      "│ antidio magnani        │    0.733333 │ 0.578947 │   0.647059 │        19 │\n",
      "├────────────────────────┼─────────────┼──────────┼────────────┼───────────┤\n",
      "│ john hooper            │    0.727273 │ 0.941176 │   0.820513 │        17 │\n",
      "├────────────────────────┼─────────────┼──────────┼────────────┼───────────┤\n",
      "│ andrew johnson         │    0.714286 │ 0.625    │   0.666667 │        16 │\n",
      "├────────────────────────┼─────────────┼──────────┼────────────┼───────────┤\n",
      "│ harun kirmaci          │    1        │ 0.25     │   0.4      │        16 │\n",
      "├────────────────────────┼─────────────┼──────────┼────────────┼───────────┤\n",
      "│ taha enes kon          │    0.625    │ 1        │   0.769231 │        15 │\n",
      "├────────────────────────┼─────────────┼──────────┼────────────┼───────────┤\n",
      "│ levent kiliç           │    0.875    │ 0.5      │   0.636364 │        14 │\n",
      "├────────────────────────┼─────────────┼──────────┼────────────┼───────────┤\n",
      "│ rob preston            │    0.8      │ 0.285714 │   0.421053 │        14 │\n",
      "├────────────────────────┼─────────────┼──────────┼────────────┼───────────┤\n",
      "│ sabahattin kulu        │    0.846154 │ 0.785714 │   0.814815 │        14 │\n",
      "├────────────────────────┼─────────────┼──────────┼────────────┼───────────┤\n",
      "│ özgür göral            │    0.777778 │ 0.5      │   0.608696 │        14 │\n",
      "├────────────────────────┼─────────────┼──────────┼────────────┼───────────┤\n",
      "│ adil gürkan ceyhan     │    0.7      │ 0.538462 │   0.608696 │        13 │\n",
      "├────────────────────────┼─────────────┼──────────┼────────────┼───────────┤\n",
      "│ ali murat gürkan       │    0.909091 │ 0.769231 │   0.833333 │        13 │\n",
      "├────────────────────────┼─────────────┼──────────┼────────────┼───────────┤\n",
      "│ beyhan gören           │    0.714286 │ 0.769231 │   0.740741 │        13 │\n",
      "├────────────────────────┼─────────────┼──────────┼────────────┼───────────┤\n",
      "│ mehmed emre kaya       │    0.666667 │ 0.307692 │   0.421053 │        13 │\n",
      "├────────────────────────┼─────────────┼──────────┼────────────┼───────────┤\n",
      "│ melih gökmen           │    0.666667 │ 0.461538 │   0.545455 │        13 │\n",
      "├────────────────────────┼─────────────┼──────────┼────────────┼───────────┤\n",
      "│ selen yeşildal         │    0.625    │ 0.384615 │   0.47619  │        13 │\n",
      "├────────────────────────┼─────────────┼──────────┼────────────┼───────────┤\n",
      "│ suling zhai            │    1        │ 0.307692 │   0.470588 │        13 │\n",
      "├────────────────────────┼─────────────┼──────────┼────────────┼───────────┤\n",
      "│ borahan cönkeroğlu     │    0.625    │ 0.416667 │   0.5      │        12 │\n",
      "├────────────────────────┼─────────────┼──────────┼────────────┼───────────┤\n",
      "│ frederic mckinnon      │    0.52381  │ 0.916667 │   0.666667 │        12 │\n",
      "├────────────────────────┼─────────────┼──────────┼────────────┼───────────┤\n",
      "│ nurettin demi̇rdöven    │    0.833333 │ 0.416667 │   0.555556 │        12 │\n",
      "├────────────────────────┼─────────────┼──────────┼────────────┼───────────┤\n",
      "│ tanmoy dutta           │    0.857143 │ 0.5      │   0.631579 │        12 │\n",
      "├────────────────────────┼─────────────┼──────────┼────────────┼───────────┤\n",
      "│ şebnem koçoğlu bi̇lgi̇n  │    0.5      │ 0.5      │   0.5      │        12 │\n",
      "├────────────────────────┼─────────────┼──────────┼────────────┼───────────┤\n",
      "│ berke tarakçioğlu      │    0.555556 │ 0.454545 │   0.5      │        11 │\n",
      "├────────────────────────┼─────────────┼──────────┼────────────┼───────────┤\n",
      "│ can boğa               │    1        │ 0.363636 │   0.533333 │        11 │\n",
      "├────────────────────────┼─────────────┼──────────┼────────────┼───────────┤\n",
      "│ chris sharratt         │    1        │ 0.181818 │   0.307692 │        11 │\n",
      "├────────────────────────┼─────────────┼──────────┼────────────┼───────────┤\n",
      "│ fatih kalyoncu         │    0.5625   │ 0.818182 │   0.666667 │        11 │\n",
      "├────────────────────────┼─────────────┼──────────┼────────────┼───────────┤\n",
      "│ mehmet parlar          │    0.75     │ 0.545455 │   0.631579 │        11 │\n",
      "├────────────────────────┼─────────────┼──────────┼────────────┼───────────┤\n",
      "│ mehmet çi̇çek           │    1        │ 0.454545 │   0.625    │        11 │\n",
      "├────────────────────────┼─────────────┼──────────┼────────────┼───────────┤\n",
      "│ yazgı akin             │    0.555556 │ 0.454545 │   0.5      │        11 │\n",
      "├────────────────────────┼─────────────┼──────────┼────────────┼───────────┤\n",
      "│ cumhur dervi̇şoğlu      │    0.625    │ 0.5      │   0.555556 │        10 │\n",
      "├────────────────────────┼─────────────┼──────────┼────────────┼───────────┤\n",
      "│ emir önal              │    0.75     │ 0.6      │   0.666667 │        10 │\n",
      "├────────────────────────┼─────────────┼──────────┼────────────┼───────────┤\n",
      "│ kian chung beh         │    1        │ 0.2      │   0.333333 │        10 │\n",
      "├────────────────────────┼─────────────┼──────────┼────────────┼───────────┤\n",
      "│ tolga yurteri          │    0        │ 0        │   0        │        10 │\n",
      "├────────────────────────┼─────────────┼──────────┼────────────┼───────────┤\n",
      "│ utku arkın durdu       │    1        │ 0.4      │   0.571429 │        10 │\n",
      "├────────────────────────┼─────────────┼──────────┼────────────┼───────────┤\n",
      "│ ceren arslan           │    0.75     │ 0.333333 │   0.461538 │         9 │\n",
      "├────────────────────────┼─────────────┼──────────┼────────────┼───────────┤\n",
      "│ elif yildirim          │    0.666667 │ 0.666667 │   0.666667 │         9 │\n",
      "├────────────────────────┼─────────────┼──────────┼────────────┼───────────┤\n",
      "│ erkan i̇nce             │    0.833333 │ 0.555556 │   0.666667 │         9 │\n",
      "├────────────────────────┼─────────────┼──────────┼────────────┼───────────┤\n",
      "│ köksal çiğ             │    0.666667 │ 0.444444 │   0.533333 │         9 │\n",
      "├────────────────────────┼─────────────┼──────────┼────────────┼───────────┤\n",
      "│ tolga demi̇r            │    0.666667 │ 0.444444 │   0.533333 │         9 │\n",
      "├────────────────────────┼─────────────┼──────────┼────────────┼───────────┤\n",
      "│ çağlar çakiroğlu       │    0.666667 │ 0.222222 │   0.333333 │         9 │\n",
      "├────────────────────────┼─────────────┼──────────┼────────────┼───────────┤\n",
      "│ hakan keskin           │    0        │ 0        │   0        │         8 │\n",
      "├────────────────────────┼─────────────┼──────────┼────────────┼───────────┤\n",
      "│ harry cotton           │    1        │ 0.125    │   0.222222 │         8 │\n",
      "├────────────────────────┼─────────────┼──────────┼────────────┼───────────┤\n",
      "│ oğuzhan kılıç          │    0.6      │ 0.375    │   0.461538 │         8 │\n",
      "├────────────────────────┼─────────────┼──────────┼────────────┼───────────┤\n",
      "│ suat aktepe            │    0        │ 0        │   0        │         8 │\n",
      "├────────────────────────┼─────────────┼──────────┼────────────┼───────────┤\n",
      "│ enver gümüş            │    0.6      │ 0.428571 │   0.5      │         7 │\n",
      "├────────────────────────┼─────────────┼──────────┼────────────┼───────────┤\n",
      "│ james heduvan          │    0        │ 0        │   0        │         6 │\n",
      "├────────────────────────┼─────────────┼──────────┼────────────┼───────────┤\n",
      "│ martin coe             │    0        │ 0        │   0        │         6 │\n",
      "├────────────────────────┼─────────────┼──────────┼────────────┼───────────┤\n",
      "│ sait satar             │    1        │ 0.166667 │   0.285714 │         6 │\n",
      "├────────────────────────┼─────────────┼──────────┼────────────┼───────────┤\n",
      "│ salih karakaya         │    0        │ 0        │   0        │         4 │\n",
      "├────────────────────────┼─────────────┼──────────┼────────────┼───────────┤\n",
      "│ serhat pişen           │    0        │ 0        │   0        │         3 │\n",
      "╘════════════════════════╧═════════════╧══════════╧════════════╧═══════════╛\n"
     ]
    }
   ],
   "source": [
    "from tabulate import tabulate\n",
    "\n",
    "data = [names_list[0].tolist(), precision, recall, fscore, support]\n",
    "transpose = np.transpose(data)\n",
    "final = sorted(transpose, key=lambda x: int(x[4]), reverse=True)\n",
    "table = tabulate(final, headers = [\"name\", \"precision\", \"recall\", \"f1-score\", \"support\"], tablefmt=\"fancy_grid\")\n",
    "print(table)"
   ]
  },
  {
   "cell_type": "code",
   "execution_count": 37,
   "metadata": {},
   "outputs": [],
   "source": [
    "df_data = pd.DataFrame(transpose)\n",
    "precision = {}\n",
    "recall = {}\n",
    "f1 = {}\n",
    "\n",
    "for i in range(25, 3, -1):\n",
    "    prec = df_data[support == i][1]\n",
    "    rec = df_data[support == i][2]\n",
    "    f = df_data[support == i][3]\n",
    "    if len(prec) != 0:\n",
    "        average_prec = sum([float(p) for p in prec]) / len(prec)\n",
    "        precision[i] = average_prec\n",
    "        \n",
    "        average_rec = sum([float(p) for p in rec]) / len(rec)\n",
    "        recall[i] = average_rec\n",
    "        \n",
    "        average_f = sum([float(p) for p in f]) / len(f)\n",
    "        f1[i] = average_f"
   ]
  },
  {
   "cell_type": "code",
   "execution_count": 41,
   "metadata": {},
   "outputs": [
    {
     "data": {
      "text/plain": [
       "[<matplotlib.lines.Line2D at 0x2265759e910>]"
      ]
     },
     "execution_count": 41,
     "metadata": {},
     "output_type": "execute_result"
    },
    {
     "data": {
      "image/png": "[encoded data removed]",
      "text/plain": [
       "<Figure size 432x288 with 1 Axes>"
      ]
     },
     "metadata": {
      "needs_background": "light"
     },
     "output_type": "display_data"
    }
   ],
   "source": [
    "import seaborn\n",
    "\n",
    "x_pre = np.array(list(precision.keys()))\n",
    "y_pre = np.array(list(precision.values()))\n",
    "\n",
    "x_rec = np.array(list(recall.keys()))\n",
    "y_rec = np.array(list(recall.values()))\n",
    "\n",
    "plt.subplot(1, 2, 2)\n",
    "plt.plot(x_pre,y_pre)\n",
    "plt.plot(x_rec,y_rec)"
   ]
  }
 ],
 "metadata": {
  "kernelspec": {
   "display_name": "Python 3",
   "language": "python",
   "name": "python3"
  },
  "language_info": {
   "codemirror_mode": {
    "name": "ipython",
    "version": 3
   },
   "file_extension": ".py",
   "mimetype": "text/x-python",
   "name": "python",
   "nbconvert_exporter": "python",
   "pygments_lexer": "ipython3",
   "version": "3.8.5"
  }
 },
 "nbformat": 4,
 "nbformat_minor": 4
}
